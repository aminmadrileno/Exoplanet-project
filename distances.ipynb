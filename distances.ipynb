{
 "cells": [
  {
   "cell_type": "code",
   "execution_count": 1,
   "metadata": {},
   "outputs": [],
   "source": [
    "import pandas  as pd\n",
    "import numpy as np\n",
    "import warnings\n",
    "warnings.filterwarnings('ignore')"
   ]
  },
  {
   "cell_type": "code",
   "execution_count": 2,
   "metadata": {},
   "outputs": [],
   "source": [
    "ai_raw = pd.read_csv('FINAL_ML_con_TIERRA.csv')"
   ]
  },
  {
   "cell_type": "code",
   "execution_count": 3,
   "metadata": {},
   "outputs": [],
   "source": [
    "ai = ai_raw.drop(columns=['orbit_semi-major_axis_[au])', 'insolation_flux_earth', 'orbital_period_[days]', 'Unnamed: 0', 'planet_name', 'host_name', 'ratio_of_semi-major_axis_to_stellar_radius', 'stellar_effective_temperature_[k]', 'stellar_radius_[solar_radius]', 'stellar_mass_[solar_mass]', 'distance_[pc]', 'number_of_planets', 'stellar_surface_gravity', 'stellar_age_[gyr]'])\n",
    "ai.dropna(inplace=True)"
   ]
  },
  {
   "cell_type": "code",
   "execution_count": 7,
   "metadata": {},
   "outputs": [],
   "source": [
    "from sklearn.preprocessing import MinMaxScaler\n",
    "scaler = MinMaxScaler()\n",
    "ai_standardized = scaler.fit_transform(ai)\n",
    "earth = ai_standardized[-1].reshape(1,-1)\n"
   ]
  },
  {
   "cell_type": "code",
   "execution_count": 28,
   "metadata": {},
   "outputs": [],
   "source": [
    "from sklearn.metrics import euclidean_distances\n",
    "distances = euclidean_distances(ai_standardized, earth)"
   ]
  },
  {
   "cell_type": "code",
   "execution_count": 29,
   "metadata": {},
   "outputs": [],
   "source": [
    "sorted_distances = np.sort(distances, axis=0)"
   ]
  },
  {
   "cell_type": "code",
   "execution_count": 45,
   "metadata": {},
   "outputs": [
    {
     "name": "stdout",
     "output_type": "stream",
     "text": [
      "1332\n",
      "1333\n",
      "1582\n",
      "4845\n"
     ]
    }
   ],
   "source": [
    "for index, v in enumerate(distances):\n",
    "    if v in sorted_distances[:4]:\n",
    "        print(index)"
   ]
  },
  {
   "cell_type": "code",
   "execution_count": null,
   "metadata": {},
   "outputs": [],
   "source": []
  },
  {
   "cell_type": "code",
   "execution_count": null,
   "metadata": {},
   "outputs": [],
   "source": []
  },
  {
   "cell_type": "code",
   "execution_count": null,
   "metadata": {},
   "outputs": [],
   "source": []
  },
  {
   "cell_type": "code",
   "execution_count": null,
   "metadata": {},
   "outputs": [],
   "source": []
  },
  {
   "cell_type": "code",
   "execution_count": 33,
   "metadata": {},
   "outputs": [],
   "source": [
    "ai['distances'] = distances"
   ]
  },
  {
   "cell_type": "code",
   "execution_count": 47,
   "metadata": {},
   "outputs": [
    {
     "data": {
      "text/html": [
       "<div>\n",
       "<style scoped>\n",
       "    .dataframe tbody tr th:only-of-type {\n",
       "        vertical-align: middle;\n",
       "    }\n",
       "\n",
       "    .dataframe tbody tr th {\n",
       "        vertical-align: top;\n",
       "    }\n",
       "\n",
       "    .dataframe thead th {\n",
       "        text-align: right;\n",
       "    }\n",
       "</style>\n",
       "<table border=\"1\" class=\"dataframe\">\n",
       "  <thead>\n",
       "    <tr style=\"text-align: right;\">\n",
       "      <th></th>\n",
       "      <th>planet_radius</th>\n",
       "      <th>planet_mass</th>\n",
       "      <th>planet_density</th>\n",
       "      <th>eccentricity</th>\n",
       "      <th>equilibrium_temperature_[k]</th>\n",
       "      <th>distances</th>\n",
       "    </tr>\n",
       "  </thead>\n",
       "  <tbody>\n",
       "    <tr>\n",
       "      <th>0</th>\n",
       "      <td>12.10</td>\n",
       "      <td>6165.60000</td>\n",
       "      <td>19.100000</td>\n",
       "      <td>0.231000</td>\n",
       "      <td>313.321965</td>\n",
       "      <td>0.388450</td>\n",
       "    </tr>\n",
       "    <tr>\n",
       "      <th>1</th>\n",
       "      <td>12.30</td>\n",
       "      <td>4684.81420</td>\n",
       "      <td>13.800000</td>\n",
       "      <td>0.080000</td>\n",
       "      <td>313.321965</td>\n",
       "      <td>0.357404</td>\n",
       "    </tr>\n",
       "    <tr>\n",
       "      <th>2</th>\n",
       "      <td>12.90</td>\n",
       "      <td>1525.50000</td>\n",
       "      <td>3.900000</td>\n",
       "      <td>0.000000</td>\n",
       "      <td>313.321965</td>\n",
       "      <td>0.359344</td>\n",
       "    </tr>\n",
       "    <tr>\n",
       "      <th>3</th>\n",
       "      <td>12.60</td>\n",
       "      <td>2586.74645</td>\n",
       "      <td>7.110000</td>\n",
       "      <td>0.372689</td>\n",
       "      <td>308.484799</td>\n",
       "      <td>0.428312</td>\n",
       "    </tr>\n",
       "    <tr>\n",
       "      <th>4</th>\n",
       "      <td>13.50</td>\n",
       "      <td>565.73740</td>\n",
       "      <td>1.260000</td>\n",
       "      <td>0.680000</td>\n",
       "      <td>311.602502</td>\n",
       "      <td>0.587546</td>\n",
       "    </tr>\n",
       "    <tr>\n",
       "      <th>...</th>\n",
       "      <td>...</td>\n",
       "      <td>...</td>\n",
       "      <td>...</td>\n",
       "      <td>...</td>\n",
       "      <td>...</td>\n",
       "      <td>...</td>\n",
       "    </tr>\n",
       "    <tr>\n",
       "      <th>5261</th>\n",
       "      <td>2.20</td>\n",
       "      <td>5.48000</td>\n",
       "      <td>2.830000</td>\n",
       "      <td>0.000000</td>\n",
       "      <td>823.000000</td>\n",
       "      <td>0.146409</td>\n",
       "    </tr>\n",
       "    <tr>\n",
       "      <th>5262</th>\n",
       "      <td>4.92</td>\n",
       "      <td>21.50000</td>\n",
       "      <td>0.992000</td>\n",
       "      <td>0.000000</td>\n",
       "      <td>600.000000</td>\n",
       "      <td>0.146205</td>\n",
       "    </tr>\n",
       "    <tr>\n",
       "      <th>5263</th>\n",
       "      <td>3.85</td>\n",
       "      <td>14.20000</td>\n",
       "      <td>1.370000</td>\n",
       "      <td>0.000000</td>\n",
       "      <td>439.000000</td>\n",
       "      <td>0.097786</td>\n",
       "    </tr>\n",
       "    <tr>\n",
       "      <th>5264</th>\n",
       "      <td>1.90</td>\n",
       "      <td>254.30000</td>\n",
       "      <td>34.972449</td>\n",
       "      <td>0.060000</td>\n",
       "      <td>1157.000000</td>\n",
       "      <td>0.229341</td>\n",
       "    </tr>\n",
       "    <tr>\n",
       "      <th>5265</th>\n",
       "      <td>1.00</td>\n",
       "      <td>1.00000</td>\n",
       "      <td>5.520000</td>\n",
       "      <td>0.016700</td>\n",
       "      <td>255.000000</td>\n",
       "      <td>0.000000</td>\n",
       "    </tr>\n",
       "  </tbody>\n",
       "</table>\n",
       "<p>4846 rows × 6 columns</p>\n",
       "</div>"
      ],
      "text/plain": [
       "      planet_radius  planet_mass  planet_density  eccentricity  \\\n",
       "0             12.10   6165.60000       19.100000      0.231000   \n",
       "1             12.30   4684.81420       13.800000      0.080000   \n",
       "2             12.90   1525.50000        3.900000      0.000000   \n",
       "3             12.60   2586.74645        7.110000      0.372689   \n",
       "4             13.50    565.73740        1.260000      0.680000   \n",
       "...             ...          ...             ...           ...   \n",
       "5261           2.20      5.48000        2.830000      0.000000   \n",
       "5262           4.92     21.50000        0.992000      0.000000   \n",
       "5263           3.85     14.20000        1.370000      0.000000   \n",
       "5264           1.90    254.30000       34.972449      0.060000   \n",
       "5265           1.00      1.00000        5.520000      0.016700   \n",
       "\n",
       "      equilibrium_temperature_[k]  distances  \n",
       "0                      313.321965   0.388450  \n",
       "1                      313.321965   0.357404  \n",
       "2                      313.321965   0.359344  \n",
       "3                      308.484799   0.428312  \n",
       "4                      311.602502   0.587546  \n",
       "...                           ...        ...  \n",
       "5261                   823.000000   0.146409  \n",
       "5262                   600.000000   0.146205  \n",
       "5263                   439.000000   0.097786  \n",
       "5264                  1157.000000   0.229341  \n",
       "5265                   255.000000   0.000000  \n",
       "\n",
       "[4846 rows x 6 columns]"
      ]
     },
     "execution_count": 47,
     "metadata": {},
     "output_type": "execute_result"
    }
   ],
   "source": [
    "ai"
   ]
  },
  {
   "cell_type": "code",
   "execution_count": 36,
   "metadata": {},
   "outputs": [],
   "source": [
    "#now merge distances to ai_raw where the index is the same. if no distance is found, then put a 0\n",
    "ai_raw['distances'] = ai['distances']"
   ]
  },
  {
   "cell_type": "code",
   "execution_count": 39,
   "metadata": {},
   "outputs": [
    {
     "name": "stdout",
     "output_type": "stream",
     "text": [
      "<class 'pandas.core.frame.DataFrame'>\n",
      "RangeIndex: 5266 entries, 0 to 5265\n",
      "Data columns (total 20 columns):\n",
      " #   Column                                      Non-Null Count  Dtype  \n",
      "---  ------                                      --------------  -----  \n",
      " 0   Unnamed: 0                                  5266 non-null   int64  \n",
      " 1   planet_name                                 5266 non-null   object \n",
      " 2   host_name                                   5266 non-null   object \n",
      " 3   orbital_period_[days]                       5262 non-null   float64\n",
      " 4   orbit_semi-major_axis_[au])                 5077 non-null   float64\n",
      " 5   planet_radius                               5261 non-null   float64\n",
      " 6   planet_mass                                 5261 non-null   float64\n",
      " 7   planet_density                              5235 non-null   float64\n",
      " 8   eccentricity                                5266 non-null   float64\n",
      " 9   equilibrium_temperature_[k]                 4868 non-null   float64\n",
      " 10  ratio_of_semi-major_axis_to_stellar_radius  4994 non-null   float64\n",
      " 11  stellar_effective_temperature_[k]           5266 non-null   float64\n",
      " 12  stellar_radius_[solar_radius]               5266 non-null   float64\n",
      " 13  stellar_mass_[solar_mass]                   5262 non-null   float64\n",
      " 14  distance_[pc]                               5248 non-null   float64\n",
      " 15  number_of_planets                           5266 non-null   int64  \n",
      " 16  insolation_flux_earth                       4868 non-null   float64\n",
      " 17  stellar_surface_gravity                     5238 non-null   float64\n",
      " 18  stellar_age_[gyr]                           5266 non-null   float64\n",
      " 19  distances                                   4846 non-null   float64\n",
      "dtypes: float64(16), int64(2), object(2)\n",
      "memory usage: 1.4 MB\n"
     ]
    }
   ],
   "source": [
    "ai_raw.info(memory_usage='deep')"
   ]
  },
  {
   "cell_type": "code",
   "execution_count": 48,
   "metadata": {},
   "outputs": [
    {
     "data": {
      "text/plain": [
       "Unnamed: 0                                            1399\n",
       "planet_name                                   TRAPPIST-1 e\n",
       "host_name                                       TRAPPIST-1\n",
       "orbital_period_[days]                             6.101013\n",
       "orbit_semi-major_axis_[au])                        0.02925\n",
       "planet_radius                                         0.92\n",
       "planet_mass                                          0.692\n",
       "planet_density                                    4.901605\n",
       "eccentricity                                        0.0051\n",
       "equilibrium_temperature_[k]                          250.0\n",
       "ratio_of_semi-major_axis_to_stellar_radius          52.855\n",
       "stellar_effective_temperature_[k]                   2566.0\n",
       "stellar_radius_[solar_radius]                         0.12\n",
       "stellar_mass_[solar_mass]                             0.09\n",
       "distance_[pc]                                    12.429889\n",
       "number_of_planets                                        7\n",
       "insolation_flux_earth                                 0.65\n",
       "stellar_surface_gravity                               5.24\n",
       "stellar_age_[gyr]                                      0.5\n",
       "distances                                         0.008363\n",
       "Name: 1399, dtype: object"
      ]
     },
     "execution_count": 48,
     "metadata": {},
     "output_type": "execute_result"
    }
   ],
   "source": [
    "ai_raw.iloc[1399]"
   ]
  },
  {
   "cell_type": "code",
   "execution_count": null,
   "metadata": {},
   "outputs": [],
   "source": []
  },
  {
   "cell_type": "code",
   "execution_count": null,
   "metadata": {},
   "outputs": [],
   "source": []
  },
  {
   "cell_type": "code",
   "execution_count": null,
   "metadata": {},
   "outputs": [],
   "source": []
  },
  {
   "cell_type": "code",
   "execution_count": null,
   "metadata": {},
   "outputs": [],
   "source": []
  }
 ],
 "metadata": {
  "kernelspec": {
   "display_name": "base",
   "language": "python",
   "name": "python3"
  },
  "language_info": {
   "codemirror_mode": {
    "name": "ipython",
    "version": 3
   },
   "file_extension": ".py",
   "mimetype": "text/x-python",
   "name": "python",
   "nbconvert_exporter": "python",
   "pygments_lexer": "ipython3",
   "version": "3.9.13"
  },
  "orig_nbformat": 4
 },
 "nbformat": 4,
 "nbformat_minor": 2
}
