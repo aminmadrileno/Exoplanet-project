{
 "cells": [
  {
   "cell_type": "code",
   "execution_count": 1,
   "metadata": {},
   "outputs": [],
   "source": [
    "import pandas  as pd\n",
    "import numpy as np\n",
    "import warnings\n",
    "warnings.filterwarnings('ignore')\n",
    "import selenium\n",
    "import feedparser\n",
    "from bs4 import BeautifulSoup as bs\n",
    "from selenium import webdriver\n",
    "from webdriver_manager.chrome import ChromeDriverManager\n",
    "from selenium.webdriver.common.by import By\n",
    "import requests as req\n",
    "from bs4 import BeautifulSoup as bs    # ambos alias son cosa mia\n",
    "import seaborn as sns\n",
    "import matplotlib.pyplot as plt\n",
    "from sklearn.preprocessing import StandardScaler\n",
    "from sklearn.model_selection import train_test_split\n",
    "from sklearn.linear_model import LinearRegression\n",
    "from sklearn.metrics import mean_squared_error\n",
    "from sklearn.metrics import r2_score\n",
    "from sklearn.ensemble import RandomForestRegressor\n"
   ]
  },
  {
   "cell_type": "code",
   "execution_count": 2,
   "metadata": {},
   "outputs": [],
   "source": [
    "def machinelearning(column):\n",
    "    global column\n",
    "    global predict\n",
    "    global column2\n",
    "    global predict2\n",
    "    column = pd.read_csv(f'{column}_AI_onlyv.csv')\n",
    "    column2 = column.drop(['Unnamed: 0'], axis=1, inplace=True)\n",
    "    predict = pd.read_csv(f'{column}_AI_prediction.csv')\n",
    "    predict2 = predict.drop(['Unnamed: 0'], axis=1, inplace=True)\n",
    "    "
   ]
  },
  {
   "cell_type": "code",
   "execution_count": null,
   "metadata": {},
   "outputs": [],
   "source": [
    "machinelearning('')"
   ]
  },
  {
   "cell_type": "code",
   "execution_count": null,
   "metadata": {},
   "outputs": [],
   "source": [
    "X = column2.drop(['orbital_period_[days]', 'insolation_flux_earth', 'equilibrium_temperature_[k]', 'Unnamed: 0'], axis=1)\n",
    "y = column2['orbital_period_[days]']"
   ]
  },
  {
   "cell_type": "code",
   "execution_count": null,
   "metadata": {},
   "outputs": [],
   "source": [
    "def modelexecution(X, y, depth):\n",
    "    X = StandardScaler().fit_transform(X)\n",
    "    X_train, X_test, y_train, y_test = train_test_split(X, y, test_size=0.2, random_state=42)\n",
    "    global model1\n",
    "    model1 = RandomForestRegressor(n_estimators=200, max_depth=depth, random_state=42)\n",
    "    model1.fit(X_train, y_train)\n",
    "    global y_pred_rf\n",
    "    y_pred_rf = model1.predict(X_test)\n",
    "    global MSE_RF\n",
    "    MSE_RF = mean_squared_error(y_test, y_pred_rf, squared=False)\n",
    "    global model2\n",
    "    model2 = LinearRegression()\n",
    "    model2.fit(X_train, y_train)\n",
    "    global y_pred_lr\n",
    "    y_pred_lr = model2.predict(X_test)\n",
    "    global MSE_LR\n",
    "    MSE_LR = mean_squared_error(y_test, y_pred_lr, squared=False)\n",
    "    return MSE_LR, MSE_RF"
   ]
  },
  {
   "cell_type": "code",
   "execution_count": null,
   "metadata": {},
   "outputs": [],
   "source": [
    "modelexecution(X, y, 10)"
   ]
  },
  {
   "cell_type": "code",
   "execution_count": null,
   "metadata": {},
   "outputs": [],
   "source": []
  }
 ],
 "metadata": {
  "kernelspec": {
   "display_name": "base",
   "language": "python",
   "name": "python3"
  },
  "language_info": {
   "codemirror_mode": {
    "name": "ipython",
    "version": 3
   },
   "file_extension": ".py",
   "mimetype": "text/x-python",
   "name": "python",
   "nbconvert_exporter": "python",
   "pygments_lexer": "ipython3",
   "version": "3.9.13"
  },
  "orig_nbformat": 4
 },
 "nbformat": 4,
 "nbformat_minor": 2
}
