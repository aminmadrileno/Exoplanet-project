{
 "cells": [
  {
   "cell_type": "code",
   "execution_count": 19,
   "metadata": {},
   "outputs": [],
   "source": [
    "import pandas  as pd\n",
    "import numpy as np\n",
    "import warnings\n",
    "warnings.filterwarnings('ignore')\n",
    "import selenium\n",
    "import feedparser\n",
    "from bs4 import BeautifulSoup as bs\n",
    "from selenium import webdriver\n",
    "from webdriver_manager.chrome import ChromeDriverManager \n",
    "from selenium.webdriver.common.by import By \n",
    "import requests as req\n",
    "from bs4 import BeautifulSoup as bs    # ambos alias son cosa mia\n",
    "import seaborn as sns\n",
    "import matplotlib.pyplot as plt"
   ]
  },
  {
   "cell_type": "code",
   "execution_count": 2,
   "metadata": {},
   "outputs": [],
   "source": [
    "from selenium.webdriver.chrome.options import Options\n",
    "# opciones del driver\n",
    "\n",
    "opciones=Options()\n",
    "\n",
    "# quita la bandera de ser robot\n",
    "opciones.add_experimental_option('excludeSwitches', ['enable-automation'])\n",
    "opciones.add_experimental_option('useAutomationExtension', False)\n",
    "\n",
    "opciones.headless=False   # si True, no aparece la ventana (headless=no visible)\n",
    "\n",
    "opciones.add_argument('--start-maximized')         # comienza maximizado\n",
    "\n",
    "#opciones.add_argument('--incognito')              # incognito\n"
   ]
  },
  {
   "cell_type": "code",
   "execution_count": 3,
   "metadata": {},
   "outputs": [
    {
     "name": "stderr",
     "output_type": "stream",
     "text": [
      "[WDM] - Downloading: 100%|██████████| 8.84M/8.84M [00:00<00:00, 32.0MB/s]\n"
     ]
    }
   ],
   "source": [
    "from webdriver_manager.chrome import ChromeDriverManager\n",
    "\n",
    "PATH=ChromeDriverManager().install()"
   ]
  },
  {
   "cell_type": "code",
   "execution_count": 4,
   "metadata": {},
   "outputs": [],
   "source": [
    "import time   # para manejar tiempo\n",
    "\n",
    "from selenium.webdriver.support.ui import WebDriverWait   # es para esperar\n",
    "\n",
    "from selenium.webdriver.support import expected_conditions as EC  # condiciones esperadas...\n",
    "\n",
    "from selenium.webdriver import ActionChains as AC   # acciones encadenadas, rollo doble click\n",
    "\n",
    "from selenium.webdriver.common.keys import Keys  # manejar teclas"
   ]
  },
  {
   "attachments": {},
   "cell_type": "markdown",
   "metadata": {},
   "source": [
    "GET COLUMNS FROM NASA"
   ]
  },
  {
   "cell_type": "code",
   "execution_count": 5,
   "metadata": {},
   "outputs": [],
   "source": [
    "url = 'https://exoplanetarchive.ipac.caltech.edu/cgi-bin/TblView/nph-tblView?app=ExoTbls&config=PSCompPars'"
   ]
  },
  {
   "cell_type": "code",
   "execution_count": 6,
   "metadata": {},
   "outputs": [],
   "source": [
    "driver=webdriver.Chrome(PATH, options=opciones)\n",
    "html=req.get(url).content   # o .text\n"
   ]
  },
  {
   "cell_type": "code",
   "execution_count": 7,
   "metadata": {},
   "outputs": [],
   "source": [
    "driver.get(url)"
   ]
  },
  {
   "cell_type": "code",
   "execution_count": 8,
   "metadata": {},
   "outputs": [],
   "source": [
    "columnsraw = driver.find_elements(By.CSS_SELECTOR, 'div.hdrcell')"
   ]
  },
  {
   "cell_type": "code",
   "execution_count": 9,
   "metadata": {},
   "outputs": [],
   "source": [
    "columnas = [e.text for e in columnsraw]"
   ]
  },
  {
   "cell_type": "code",
   "execution_count": 10,
   "metadata": {},
   "outputs": [],
   "source": [
    "columnas  = columnas[2:17]"
   ]
  },
  {
   "cell_type": "code",
   "execution_count": 11,
   "metadata": {},
   "outputs": [],
   "source": [
    "new = []\n",
    "for e in columnas:\n",
    "    new.append(e[2:].lower().replace(' ','_'))"
   ]
  },
  {
   "cell_type": "code",
   "execution_count": 12,
   "metadata": {},
   "outputs": [],
   "source": [
    "columnas = new"
   ]
  },
  {
   "cell_type": "code",
   "execution_count": 13,
   "metadata": {},
   "outputs": [
    {
     "data": {
      "text/plain": [
       "['planet_name',\n",
       " 'host_name',\n",
       " 'orbital_period_[days]',\n",
       " 'orbit_semi-major_axis_[au])',\n",
       " 'planet_radius_[earth_radius]',\n",
       " 'planet_mass_or_mass*sin(i)_[earth_mass]',\n",
       " 'planet_density_[g/cm**3]',\n",
       " 'eccentricity',\n",
       " 'equilibrium_temperature_[k]',\n",
       " 'ratio_of_semi-major_axis_to_stellar_radius',\n",
       " 'stellar_effective_temperature_[k]',\n",
       " 'stellar_radius_[solar_radius]',\n",
       " 'stellar_mass_[solar_mass]',\n",
       " 'stellar_metallicity_[dex]',\n",
       " 'distance_[pc]']"
      ]
     },
     "execution_count": 13,
     "metadata": {},
     "output_type": "execute_result"
    }
   ],
   "source": [
    "columnas"
   ]
  },
  {
   "attachments": {},
   "cell_type": "markdown",
   "metadata": {},
   "source": [
    "GET DATA FROM DATABASE"
   ]
  },
  {
   "cell_type": "code",
   "execution_count": 15,
   "metadata": {},
   "outputs": [],
   "source": [
    "tabla1 = driver.find_element(By.XPATH, '//*[@id=\"icetable_icetbl_gridholder_1\"]/div[2]/table')"
   ]
  },
  {
   "cell_type": "code",
   "execution_count": 24,
   "metadata": {},
   "outputs": [],
   "source": [
    "tabla2 = driver.find_element(By.XPATH, '//*[@id=\"icetable_icetbl_gridholder_1\"]/div[2]/table')"
   ]
  },
  {
   "cell_type": "code",
   "execution_count": 15,
   "metadata": {},
   "outputs": [],
   "source": [
    "tabla3 = driver.find_element(By.XPATH, '//*[@id=\"icetable_icetbl_gridholder_1\"]/div[2]/table')"
   ]
  },
  {
   "cell_type": "code",
   "execution_count": 16,
   "metadata": {},
   "outputs": [],
   "source": [
    "ggggg1 =  tabla1.find_elements(By.CSS_SELECTOR, \"td[valign='middle']\")"
   ]
  },
  {
   "cell_type": "code",
   "execution_count": 17,
   "metadata": {},
   "outputs": [],
   "source": [
    "nasa1 = [i.text for i in ggggg1]"
   ]
  },
  {
   "cell_type": "code",
   "execution_count": 22,
   "metadata": {},
   "outputs": [],
   "source": [
    "#nasa1"
   ]
  },
  {
   "cell_type": "code",
   "execution_count": 27,
   "metadata": {},
   "outputs": [],
   "source": [
    "part1 = pd.DataFrame(data=nasa1)"
   ]
  },
  {
   "cell_type": "code",
   "execution_count": 28,
   "metadata": {},
   "outputs": [],
   "source": [
    "part1.to_csv('part1.csv')"
   ]
  },
  {
   "cell_type": "code",
   "execution_count": 25,
   "metadata": {},
   "outputs": [],
   "source": [
    "bbbbb2 =  tabla2.find_elements(By.CSS_SELECTOR, \"td[valign='middle']\")"
   ]
  },
  {
   "cell_type": "code",
   "execution_count": 26,
   "metadata": {},
   "outputs": [],
   "source": [
    "nosa2 = [i.text for i in bbbbb2]"
   ]
  },
  {
   "cell_type": "code",
   "execution_count": 30,
   "metadata": {},
   "outputs": [],
   "source": [
    "part2 = pd.DataFrame(data=nosa2)"
   ]
  },
  {
   "cell_type": "code",
   "execution_count": 31,
   "metadata": {},
   "outputs": [],
   "source": [
    "part2.to_csv('part2.csv')"
   ]
  },
  {
   "cell_type": "code",
   "execution_count": 16,
   "metadata": {},
   "outputs": [],
   "source": [
    "aaaaa3 =  tabla3.find_elements(By.CSS_SELECTOR, \"td[valign='middle']\")"
   ]
  },
  {
   "cell_type": "code",
   "execution_count": 17,
   "metadata": {},
   "outputs": [],
   "source": [
    "nisa3 = [i.text for i in aaaaa3]"
   ]
  },
  {
   "cell_type": "code",
   "execution_count": 18,
   "metadata": {},
   "outputs": [],
   "source": [
    "part3 = pd.DataFrame(data=nisa3)"
   ]
  },
  {
   "cell_type": "code",
   "execution_count": 19,
   "metadata": {},
   "outputs": [],
   "source": [
    "part3.to_csv('part3.csv')"
   ]
  },
  {
   "cell_type": "code",
   "execution_count": 20,
   "metadata": {},
   "outputs": [],
   "source": [
    "tabla4 = driver.find_element(By.XPATH, '//*[@id=\"icetable_icetbl_gridholder_1\"]/div[2]/table')"
   ]
  },
  {
   "cell_type": "code",
   "execution_count": 21,
   "metadata": {},
   "outputs": [],
   "source": [
    "ccccc4 =  tabla4.find_elements(By.CSS_SELECTOR, \"td[valign='middle']\")"
   ]
  },
  {
   "cell_type": "code",
   "execution_count": 22,
   "metadata": {},
   "outputs": [],
   "source": [
    "nesa4 = [i.text for i in ccccc4]"
   ]
  },
  {
   "cell_type": "code",
   "execution_count": 23,
   "metadata": {},
   "outputs": [],
   "source": [
    "part4 = pd.DataFrame(data=nesa4)"
   ]
  },
  {
   "cell_type": "code",
   "execution_count": 24,
   "metadata": {},
   "outputs": [],
   "source": [
    "part4.to_csv('part4.csv')"
   ]
  },
  {
   "cell_type": "code",
   "execution_count": 25,
   "metadata": {},
   "outputs": [],
   "source": [
    "tabla5 = driver.find_element(By.XPATH, '//*[@id=\"icetable_icetbl_gridholder_1\"]/div[2]/table')"
   ]
  },
  {
   "cell_type": "code",
   "execution_count": 26,
   "metadata": {},
   "outputs": [],
   "source": [
    "ddddd5 =  tabla5.find_elements(By.CSS_SELECTOR, \"td[valign='middle']\")"
   ]
  },
  {
   "cell_type": "code",
   "execution_count": 27,
   "metadata": {},
   "outputs": [],
   "source": [
    "nusa5 = [i.text for i in ddddd5]"
   ]
  },
  {
   "cell_type": "code",
   "execution_count": 28,
   "metadata": {},
   "outputs": [],
   "source": [
    "part5 = pd.DataFrame(data=nusa5)"
   ]
  },
  {
   "cell_type": "code",
   "execution_count": 29,
   "metadata": {},
   "outputs": [],
   "source": [
    "part5.to_csv('part5.csv')"
   ]
  },
  {
   "cell_type": "code",
   "execution_count": 30,
   "metadata": {},
   "outputs": [],
   "source": []
  },
  {
   "cell_type": "code",
   "execution_count": 32,
   "metadata": {},
   "outputs": [],
   "source": [
    "firstpart = pd.read_csv('part1.csv')\n",
    "secondpart = pd.read_csv('part2.csv')\n",
    "thirdpart = pd.read_csv('part3.csv')\n",
    "fourthpart = pd.read_csv('part4.csv')\n",
    "fifthpart = pd.read_csv('part5.csv')"
   ]
  },
  {
   "cell_type": "code",
   "execution_count": 35,
   "metadata": {},
   "outputs": [],
   "source": [
    "firstpart = firstpart.drop(columns=['Unnamed: 0'])\n",
    "secondpart = secondpart.drop(columns=['Unnamed: 0'])\n",
    "thirdpart = thirdpart.drop(columns=['Unnamed: 0'])\n",
    "fourthpart = fourthpart.drop(columns=['Unnamed: 0'])\n",
    "fifthpart = fifthpart.drop(columns=['Unnamed: 0'])"
   ]
  },
  {
   "cell_type": "code",
   "execution_count": 50,
   "metadata": {},
   "outputs": [],
   "source": [
    "firstpart = firstpart.rename(columns={firstpart.columns[0]: 'data'})\n",
    "secondpart = secondpart.rename(columns={secondpart.columns[0]: 'data'})\n",
    "thirdpart = thirdpart.rename(columns={thirdpart.columns[0]: 'data'})\n",
    "fourthpart = fourthpart.rename(columns={fourthpart.columns[0]: 'data'})\n",
    "fifthpart = fifthpart.rename(columns={fifthpart.columns[0]: 'data'})"
   ]
  },
  {
   "cell_type": "code",
   "execution_count": 51,
   "metadata": {},
   "outputs": [],
   "source": [
    "data1 = list(firstpart['data'])\n",
    "data2 = list(secondpart['data'])\n",
    "data3 = list(thirdpart['data'])\n",
    "data4 = list(fourthpart['data'])\n",
    "data5 = list(fifthpart['data'])"
   ]
  },
  {
   "cell_type": "code",
   "execution_count": 56,
   "metadata": {},
   "outputs": [
    {
     "data": {
      "text/plain": [
       "(20178, 19278, 20106, 18900, 25344)"
      ]
     },
     "execution_count": 56,
     "metadata": {},
     "output_type": "execute_result"
    }
   ],
   "source": [
    "len(data1), len(data2), len(data3), len(data4), len(data5)"
   ]
  },
  {
   "cell_type": "code",
   "execution_count": 58,
   "metadata": {},
   "outputs": [],
   "source": [
    "firstback = firstpart.copy()\n",
    "secondback = secondpart.copy()\n",
    "thirdback = thirdpart.copy()\n",
    "fourthback = fourthpart.copy()\n",
    "fifthback = fifthpart.copy()"
   ]
  },
  {
   "cell_type": "code",
   "execution_count": 60,
   "metadata": {},
   "outputs": [],
   "source": [
    "firstback.to_csv('firstback.csv')\n",
    "secondback.to_csv('secondback.csv')\n",
    "thirdback.to_csv('thirdback.csv')\n",
    "fourthback.to_csv('fourthback.csv')\n",
    "fifthback.to_csv('fifthback.csv')"
   ]
  },
  {
   "cell_type": "code",
   "execution_count": 69,
   "metadata": {},
   "outputs": [],
   "source": [
    "data1 = data1[2:]\n",
    "data2 = data2[2:]\n",
    "data3 = data3[2:]\n",
    "data4 = data4[2:]\n",
    "data5 = data5[2:]"
   ]
  },
  {
   "cell_type": "code",
   "execution_count": 84,
   "metadata": {},
   "outputs": [],
   "source": [
    "test = data1"
   ]
  },
  {
   "cell_type": "code",
   "execution_count": 96,
   "metadata": {},
   "outputs": [
    {
     "data": {
      "text/plain": [
       "float"
      ]
     },
     "execution_count": 96,
     "metadata": {},
     "output_type": "execute_result"
    }
   ],
   "source": [
    "type(test[16])"
   ]
  },
  {
   "cell_type": "code",
   "execution_count": 109,
   "metadata": {},
   "outputs": [],
   "source": [
    "def deletenan(dataset):\n",
    "    new = []\n",
    "    for i in dataset:\n",
    "        if type(i) != float:\n",
    "            new.append(i)\n",
    "    return new"
   ]
  },
  {
   "cell_type": "code",
   "execution_count": 114,
   "metadata": {},
   "outputs": [],
   "source": [
    "data1 = deletenan(data1)\n",
    "data2 = deletenan(data2)\n",
    "data3 = deletenan(data3)\n",
    "data4 = deletenan(data4)\n",
    "data5 = deletenan(data5)"
   ]
  },
  {
   "cell_type": "code",
   "execution_count": 143,
   "metadata": {},
   "outputs": [
    {
     "data": {
      "text/plain": [
       "['11 UMi b',\n",
       " '11 UMi',\n",
       " '516.21997000',\n",
       " '1.530000',\n",
       " '12.300',\n",
       " '4684.81420',\n",
       " '13.800000',\n",
       " '0.080000',\n",
       " ' ',\n",
       " ' ',\n",
       " '4213.00',\n",
       " '29.79',\n",
       " '2.78',\n",
       " '-0.020',\n",
       " '125.3210000']"
      ]
     },
     "execution_count": 143,
     "metadata": {},
     "output_type": "execute_result"
    }
   ],
   "source": [
    "data3[15:30]"
   ]
  },
  {
   "cell_type": "code",
   "execution_count": 155,
   "metadata": {},
   "outputs": [],
   "source": [
    "#divide la lista en sublistas de 15 elementos. we use yield because we want to return a generator. a generator is an object that can be iterated over (one value at a time). \n",
    "#the difference to simply a return is that the generator does not store the values in memory, it generates them on the fly. this is a huge advantage when dealing with large datasets. the yield keyword is used like return, except the function will return a generator.\n",
    "\n",
    "def divide_chunks(l, n):\n",
    "    for i in range(0, len(l), n):\n",
    "        yield l[i:i + n]\n",
    "\n",
    "data1 = list(divide_chunks(data1, 15))\n",
    "data2 = list(divide_chunks(data2, 15))\n",
    "data3 = list(divide_chunks(data3, 15))\n",
    "data4 = list(divide_chunks(data4, 15))\n",
    "data5 = list(divide_chunks(data5, 15))"
   ]
  },
  {
   "cell_type": "code",
   "execution_count": 151,
   "metadata": {},
   "outputs": [],
   "source": [
    "firstdf = pd.DataFrame(data1, columns=columnas)\n",
    "seconddf = pd.DataFrame(data2, columns=columnas)\n",
    "thirddf = pd.DataFrame(data3, columns=columnas)\n",
    "fourthdf = pd.DataFrame(data4, columns=columnas)\n",
    "fifthdf = pd.DataFrame(data5, columns=columnas)"
   ]
  },
  {
   "cell_type": "code",
   "execution_count": 154,
   "metadata": {},
   "outputs": [
    {
     "data": {
      "text/plain": [
       "5767"
      ]
     },
     "execution_count": 154,
     "metadata": {},
     "output_type": "execute_result"
    }
   ],
   "source": [
    "len(firstdf) + len(seconddf) + len(thirddf) + len(fourthdf) + len(fifthdf)"
   ]
  },
  {
   "cell_type": "code",
   "execution_count": 157,
   "metadata": {},
   "outputs": [],
   "source": [
    "#concatenamos los dataframes\n",
    "exo = pd.concat([firstdf, seconddf, thirddf, fourthdf, fifthdf], ignore_index=True)"
   ]
  },
  {
   "cell_type": "code",
   "execution_count": 160,
   "metadata": {},
   "outputs": [
    {
     "data": {
      "text/html": [
       "<div>\n",
       "<style scoped>\n",
       "    .dataframe tbody tr th:only-of-type {\n",
       "        vertical-align: middle;\n",
       "    }\n",
       "\n",
       "    .dataframe tbody tr th {\n",
       "        vertical-align: top;\n",
       "    }\n",
       "\n",
       "    .dataframe thead th {\n",
       "        text-align: right;\n",
       "    }\n",
       "</style>\n",
       "<table border=\"1\" class=\"dataframe\">\n",
       "  <thead>\n",
       "    <tr style=\"text-align: right;\">\n",
       "      <th></th>\n",
       "      <th>planet_name</th>\n",
       "      <th>host_name</th>\n",
       "      <th>orbital_period_[days]</th>\n",
       "      <th>orbit_semi-major_axis_[au])</th>\n",
       "      <th>planet_radius_[earth_radius]</th>\n",
       "      <th>planet_mass_or_mass*sin(i)_[earth_mass]</th>\n",
       "      <th>planet_density_[g/cm**3]</th>\n",
       "      <th>eccentricity</th>\n",
       "      <th>equilibrium_temperature_[k]</th>\n",
       "      <th>ratio_of_semi-major_axis_to_stellar_radius</th>\n",
       "      <th>stellar_effective_temperature_[k]</th>\n",
       "      <th>stellar_radius_[solar_radius]</th>\n",
       "      <th>stellar_mass_[solar_mass]</th>\n",
       "      <th>stellar_metallicity_[dex]</th>\n",
       "      <th>distance_[pc]</th>\n",
       "    </tr>\n",
       "  </thead>\n",
       "  <tbody>\n",
       "    <tr>\n",
       "      <th>0</th>\n",
       "      <td>11 Com b</td>\n",
       "      <td>11 Com</td>\n",
       "      <td>326.03000000</td>\n",
       "      <td>1.290000</td>\n",
       "      <td>12.100</td>\n",
       "      <td>6165.60000</td>\n",
       "      <td>19.100000</td>\n",
       "      <td>0.231000</td>\n",
       "      <td></td>\n",
       "      <td></td>\n",
       "      <td>4742.00</td>\n",
       "      <td>19.00</td>\n",
       "      <td>2.70</td>\n",
       "      <td>-0.350</td>\n",
       "      <td>93.1846000</td>\n",
       "    </tr>\n",
       "    <tr>\n",
       "      <th>1</th>\n",
       "      <td>11 UMi b</td>\n",
       "      <td>11 UMi</td>\n",
       "      <td>516.21997000</td>\n",
       "      <td>1.530000</td>\n",
       "      <td>12.300</td>\n",
       "      <td>4684.81420</td>\n",
       "      <td>13.800000</td>\n",
       "      <td>0.080000</td>\n",
       "      <td></td>\n",
       "      <td></td>\n",
       "      <td>4213.00</td>\n",
       "      <td>29.79</td>\n",
       "      <td>2.78</td>\n",
       "      <td>-0.020</td>\n",
       "      <td>125.3210000</td>\n",
       "    </tr>\n",
       "    <tr>\n",
       "      <th>2</th>\n",
       "      <td>14 And b</td>\n",
       "      <td>14 And</td>\n",
       "      <td>185.84000000</td>\n",
       "      <td>0.830000</td>\n",
       "      <td>12.900</td>\n",
       "      <td>1525.50000</td>\n",
       "      <td>3.900000</td>\n",
       "      <td>0.000000</td>\n",
       "      <td></td>\n",
       "      <td></td>\n",
       "      <td>4813.00</td>\n",
       "      <td>11.00</td>\n",
       "      <td>2.20</td>\n",
       "      <td>-0.240</td>\n",
       "      <td>75.4392000</td>\n",
       "    </tr>\n",
       "    <tr>\n",
       "      <th>3</th>\n",
       "      <td>14 Her b</td>\n",
       "      <td>14 Her</td>\n",
       "      <td>1765.03890112</td>\n",
       "      <td>2.773069</td>\n",
       "      <td>12.600</td>\n",
       "      <td>2586.74645</td>\n",
       "      <td>7.110000</td>\n",
       "      <td>0.372689</td>\n",
       "      <td></td>\n",
       "      <td></td>\n",
       "      <td>5338.00</td>\n",
       "      <td>0.93</td>\n",
       "      <td>0.91</td>\n",
       "      <td>0.405</td>\n",
       "      <td>17.9323000</td>\n",
       "    </tr>\n",
       "    <tr>\n",
       "      <th>4</th>\n",
       "      <td>16 Cyg B b</td>\n",
       "      <td>16 Cyg B</td>\n",
       "      <td>798.50000000</td>\n",
       "      <td>1.660000</td>\n",
       "      <td>13.500</td>\n",
       "      <td>565.73740</td>\n",
       "      <td>1.260000</td>\n",
       "      <td>0.680000</td>\n",
       "      <td></td>\n",
       "      <td></td>\n",
       "      <td>5750.00</td>\n",
       "      <td>1.13</td>\n",
       "      <td>1.08</td>\n",
       "      <td>0.060</td>\n",
       "      <td>21.1397000</td>\n",
       "    </tr>\n",
       "  </tbody>\n",
       "</table>\n",
       "</div>"
      ],
      "text/plain": [
       "  planet_name host_name orbital_period_[days] orbit_semi-major_axis_[au])  \\\n",
       "0    11 Com b    11 Com          326.03000000                    1.290000   \n",
       "1    11 UMi b    11 UMi          516.21997000                    1.530000   \n",
       "2    14 And b    14 And          185.84000000                    0.830000   \n",
       "3    14 Her b    14 Her         1765.03890112                    2.773069   \n",
       "4  16 Cyg B b  16 Cyg B          798.50000000                    1.660000   \n",
       "\n",
       "  planet_radius_[earth_radius] planet_mass_or_mass*sin(i)_[earth_mass]  \\\n",
       "0                       12.100                              6165.60000   \n",
       "1                       12.300                              4684.81420   \n",
       "2                       12.900                              1525.50000   \n",
       "3                       12.600                              2586.74645   \n",
       "4                       13.500                               565.73740   \n",
       "\n",
       "  planet_density_[g/cm**3] eccentricity equilibrium_temperature_[k]  \\\n",
       "0                19.100000     0.231000                               \n",
       "1                13.800000     0.080000                               \n",
       "2                 3.900000     0.000000                               \n",
       "3                 7.110000     0.372689                               \n",
       "4                 1.260000     0.680000                               \n",
       "\n",
       "  ratio_of_semi-major_axis_to_stellar_radius  \\\n",
       "0                                              \n",
       "1                                              \n",
       "2                                              \n",
       "3                                              \n",
       "4                                              \n",
       "\n",
       "  stellar_effective_temperature_[k] stellar_radius_[solar_radius]  \\\n",
       "0                           4742.00                         19.00   \n",
       "1                           4213.00                         29.79   \n",
       "2                           4813.00                         11.00   \n",
       "3                           5338.00                          0.93   \n",
       "4                           5750.00                          1.13   \n",
       "\n",
       "  stellar_mass_[solar_mass] stellar_metallicity_[dex] distance_[pc]  \n",
       "0                      2.70                    -0.350    93.1846000  \n",
       "1                      2.78                    -0.020   125.3210000  \n",
       "2                      2.20                    -0.240    75.4392000  \n",
       "3                      0.91                     0.405    17.9323000  \n",
       "4                      1.08                     0.060    21.1397000  "
      ]
     },
     "execution_count": 160,
     "metadata": {},
     "output_type": "execute_result"
    }
   ],
   "source": [
    "exo.head()"
   ]
  },
  {
   "cell_type": "code",
   "execution_count": 159,
   "metadata": {},
   "outputs": [],
   "source": [
    "exo.to_csv('exo.csv')"
   ]
  },
  {
   "cell_type": "code",
   "execution_count": 161,
   "metadata": {},
   "outputs": [],
   "source": [
    "backup_exo = exo.copy()"
   ]
  },
  {
   "cell_type": "code",
   "execution_count": 162,
   "metadata": {},
   "outputs": [],
   "source": [
    "backup_exo.to_csv('backup_exo.csv')"
   ]
  },
  {
   "attachments": {},
   "cell_type": "markdown",
   "metadata": {},
   "source": [
    "CLEAN DATA"
   ]
  },
  {
   "cell_type": "code",
   "execution_count": 8,
   "metadata": {},
   "outputs": [],
   "source": [
    "exo = pd.read_csv('exo.csv')"
   ]
  },
  {
   "cell_type": "code",
   "execution_count": 10,
   "metadata": {},
   "outputs": [],
   "source": [
    "exo = exo.rename(columns={'planet_radius_[earth_radius]': 'planet_radius', 'planet_mass_or_mass*sin(i)_[earth_mass]': 'planet_mass', 'planet_density_[g/cm**3]': 'planet_density'})"
   ]
  },
  {
   "cell_type": "code",
   "execution_count": 12,
   "metadata": {},
   "outputs": [],
   "source": [
    "exo.to_csv('exocleancolumn.csv')"
   ]
  },
  {
   "cell_type": "code",
   "execution_count": 13,
   "metadata": {},
   "outputs": [
    {
     "data": {
      "text/html": [
       "<div>\n",
       "<style scoped>\n",
       "    .dataframe tbody tr th:only-of-type {\n",
       "        vertical-align: middle;\n",
       "    }\n",
       "\n",
       "    .dataframe tbody tr th {\n",
       "        vertical-align: top;\n",
       "    }\n",
       "\n",
       "    .dataframe thead th {\n",
       "        text-align: right;\n",
       "    }\n",
       "</style>\n",
       "<table border=\"1\" class=\"dataframe\">\n",
       "  <thead>\n",
       "    <tr style=\"text-align: right;\">\n",
       "      <th></th>\n",
       "      <th>Unnamed: 0</th>\n",
       "      <th>planet_name</th>\n",
       "      <th>host_name</th>\n",
       "      <th>orbital_period_[days]</th>\n",
       "      <th>orbit_semi-major_axis_[au])</th>\n",
       "      <th>planet_radius</th>\n",
       "      <th>planet_mass</th>\n",
       "      <th>planet_density</th>\n",
       "      <th>eccentricity</th>\n",
       "      <th>equilibrium_temperature_[k]</th>\n",
       "      <th>ratio_of_semi-major_axis_to_stellar_radius</th>\n",
       "      <th>stellar_effective_temperature_[k]</th>\n",
       "      <th>stellar_radius_[solar_radius]</th>\n",
       "      <th>stellar_mass_[solar_mass]</th>\n",
       "      <th>stellar_metallicity_[dex]</th>\n",
       "      <th>distance_[pc]</th>\n",
       "    </tr>\n",
       "  </thead>\n",
       "  <tbody>\n",
       "    <tr>\n",
       "      <th>0</th>\n",
       "      <td>0</td>\n",
       "      <td>11 Com b</td>\n",
       "      <td>11 Com</td>\n",
       "      <td>326.03000000</td>\n",
       "      <td>1.290000</td>\n",
       "      <td>12.100</td>\n",
       "      <td>6165.60000</td>\n",
       "      <td>19.100000</td>\n",
       "      <td>0.231000</td>\n",
       "      <td></td>\n",
       "      <td></td>\n",
       "      <td>4742.00</td>\n",
       "      <td>19.00</td>\n",
       "      <td>2.70</td>\n",
       "      <td>-0.350</td>\n",
       "      <td>93.1846000</td>\n",
       "    </tr>\n",
       "    <tr>\n",
       "      <th>1</th>\n",
       "      <td>1</td>\n",
       "      <td>11 UMi b</td>\n",
       "      <td>11 UMi</td>\n",
       "      <td>516.21997000</td>\n",
       "      <td>1.530000</td>\n",
       "      <td>12.300</td>\n",
       "      <td>4684.81420</td>\n",
       "      <td>13.800000</td>\n",
       "      <td>0.080000</td>\n",
       "      <td></td>\n",
       "      <td></td>\n",
       "      <td>4213.00</td>\n",
       "      <td>29.79</td>\n",
       "      <td>2.78</td>\n",
       "      <td>-0.020</td>\n",
       "      <td>125.3210000</td>\n",
       "    </tr>\n",
       "    <tr>\n",
       "      <th>2</th>\n",
       "      <td>2</td>\n",
       "      <td>14 And b</td>\n",
       "      <td>14 And</td>\n",
       "      <td>185.84000000</td>\n",
       "      <td>0.830000</td>\n",
       "      <td>12.900</td>\n",
       "      <td>1525.50000</td>\n",
       "      <td>3.900000</td>\n",
       "      <td>0.000000</td>\n",
       "      <td></td>\n",
       "      <td></td>\n",
       "      <td>4813.00</td>\n",
       "      <td>11.00</td>\n",
       "      <td>2.20</td>\n",
       "      <td>-0.240</td>\n",
       "      <td>75.4392000</td>\n",
       "    </tr>\n",
       "    <tr>\n",
       "      <th>3</th>\n",
       "      <td>3</td>\n",
       "      <td>14 Her b</td>\n",
       "      <td>14 Her</td>\n",
       "      <td>1765.03890112</td>\n",
       "      <td>2.773069</td>\n",
       "      <td>12.600</td>\n",
       "      <td>2586.74645</td>\n",
       "      <td>7.110000</td>\n",
       "      <td>0.372689</td>\n",
       "      <td></td>\n",
       "      <td></td>\n",
       "      <td>5338.00</td>\n",
       "      <td>0.93</td>\n",
       "      <td>0.91</td>\n",
       "      <td>0.405</td>\n",
       "      <td>17.9323000</td>\n",
       "    </tr>\n",
       "    <tr>\n",
       "      <th>4</th>\n",
       "      <td>4</td>\n",
       "      <td>16 Cyg B b</td>\n",
       "      <td>16 Cyg B</td>\n",
       "      <td>798.50000000</td>\n",
       "      <td>1.660000</td>\n",
       "      <td>13.500</td>\n",
       "      <td>565.73740</td>\n",
       "      <td>1.260000</td>\n",
       "      <td>0.680000</td>\n",
       "      <td></td>\n",
       "      <td></td>\n",
       "      <td>5750.00</td>\n",
       "      <td>1.13</td>\n",
       "      <td>1.08</td>\n",
       "      <td>0.060</td>\n",
       "      <td>21.1397000</td>\n",
       "    </tr>\n",
       "  </tbody>\n",
       "</table>\n",
       "</div>"
      ],
      "text/plain": [
       "   Unnamed: 0 planet_name host_name orbital_period_[days]  \\\n",
       "0           0    11 Com b    11 Com          326.03000000   \n",
       "1           1    11 UMi b    11 UMi          516.21997000   \n",
       "2           2    14 And b    14 And          185.84000000   \n",
       "3           3    14 Her b    14 Her         1765.03890112   \n",
       "4           4  16 Cyg B b  16 Cyg B          798.50000000   \n",
       "\n",
       "  orbit_semi-major_axis_[au]) planet_radius planet_mass planet_density  \\\n",
       "0                    1.290000        12.100  6165.60000      19.100000   \n",
       "1                    1.530000        12.300  4684.81420      13.800000   \n",
       "2                    0.830000        12.900  1525.50000       3.900000   \n",
       "3                    2.773069        12.600  2586.74645       7.110000   \n",
       "4                    1.660000        13.500   565.73740       1.260000   \n",
       "\n",
       "  eccentricity equilibrium_temperature_[k]  \\\n",
       "0     0.231000                               \n",
       "1     0.080000                               \n",
       "2     0.000000                               \n",
       "3     0.372689                               \n",
       "4     0.680000                               \n",
       "\n",
       "  ratio_of_semi-major_axis_to_stellar_radius  \\\n",
       "0                                              \n",
       "1                                              \n",
       "2                                              \n",
       "3                                              \n",
       "4                                              \n",
       "\n",
       "  stellar_effective_temperature_[k] stellar_radius_[solar_radius]  \\\n",
       "0                           4742.00                         19.00   \n",
       "1                           4213.00                         29.79   \n",
       "2                           4813.00                         11.00   \n",
       "3                           5338.00                          0.93   \n",
       "4                           5750.00                          1.13   \n",
       "\n",
       "  stellar_mass_[solar_mass] stellar_metallicity_[dex] distance_[pc]  \n",
       "0                      2.70                    -0.350    93.1846000  \n",
       "1                      2.78                    -0.020   125.3210000  \n",
       "2                      2.20                    -0.240    75.4392000  \n",
       "3                      0.91                     0.405    17.9323000  \n",
       "4                      1.08                     0.060    21.1397000  "
      ]
     },
     "execution_count": 13,
     "metadata": {},
     "output_type": "execute_result"
    }
   ],
   "source": [
    "exo.head()"
   ]
  },
  {
   "cell_type": "code",
   "execution_count": 15,
   "metadata": {},
   "outputs": [],
   "source": [
    "exo = exo.drop(columns=['Unnamed: 0'])"
   ]
  },
  {
   "cell_type": "code",
   "execution_count": 17,
   "metadata": {},
   "outputs": [
    {
     "data": {
      "text/html": [
       "<div>\n",
       "<style scoped>\n",
       "    .dataframe tbody tr th:only-of-type {\n",
       "        vertical-align: middle;\n",
       "    }\n",
       "\n",
       "    .dataframe tbody tr th {\n",
       "        vertical-align: top;\n",
       "    }\n",
       "\n",
       "    .dataframe thead th {\n",
       "        text-align: right;\n",
       "    }\n",
       "</style>\n",
       "<table border=\"1\" class=\"dataframe\">\n",
       "  <thead>\n",
       "    <tr style=\"text-align: right;\">\n",
       "      <th></th>\n",
       "      <th>planet_name</th>\n",
       "      <th>host_name</th>\n",
       "      <th>orbital_period_[days]</th>\n",
       "      <th>orbit_semi-major_axis_[au])</th>\n",
       "      <th>planet_radius</th>\n",
       "      <th>planet_mass</th>\n",
       "      <th>planet_density</th>\n",
       "      <th>eccentricity</th>\n",
       "      <th>equilibrium_temperature_[k]</th>\n",
       "      <th>ratio_of_semi-major_axis_to_stellar_radius</th>\n",
       "      <th>stellar_effective_temperature_[k]</th>\n",
       "      <th>stellar_radius_[solar_radius]</th>\n",
       "      <th>stellar_mass_[solar_mass]</th>\n",
       "      <th>stellar_metallicity_[dex]</th>\n",
       "      <th>distance_[pc]</th>\n",
       "    </tr>\n",
       "  </thead>\n",
       "  <tbody>\n",
       "    <tr>\n",
       "      <th>0</th>\n",
       "      <td>11 Com b</td>\n",
       "      <td>11 Com</td>\n",
       "      <td>326.03000000</td>\n",
       "      <td>1.290000</td>\n",
       "      <td>12.100</td>\n",
       "      <td>6165.60000</td>\n",
       "      <td>19.100000</td>\n",
       "      <td>0.231000</td>\n",
       "      <td></td>\n",
       "      <td></td>\n",
       "      <td>4742.00</td>\n",
       "      <td>19.00</td>\n",
       "      <td>2.70</td>\n",
       "      <td>-0.350</td>\n",
       "      <td>93.1846000</td>\n",
       "    </tr>\n",
       "    <tr>\n",
       "      <th>1</th>\n",
       "      <td>11 UMi b</td>\n",
       "      <td>11 UMi</td>\n",
       "      <td>516.21997000</td>\n",
       "      <td>1.530000</td>\n",
       "      <td>12.300</td>\n",
       "      <td>4684.81420</td>\n",
       "      <td>13.800000</td>\n",
       "      <td>0.080000</td>\n",
       "      <td></td>\n",
       "      <td></td>\n",
       "      <td>4213.00</td>\n",
       "      <td>29.79</td>\n",
       "      <td>2.78</td>\n",
       "      <td>-0.020</td>\n",
       "      <td>125.3210000</td>\n",
       "    </tr>\n",
       "    <tr>\n",
       "      <th>2</th>\n",
       "      <td>14 And b</td>\n",
       "      <td>14 And</td>\n",
       "      <td>185.84000000</td>\n",
       "      <td>0.830000</td>\n",
       "      <td>12.900</td>\n",
       "      <td>1525.50000</td>\n",
       "      <td>3.900000</td>\n",
       "      <td>0.000000</td>\n",
       "      <td></td>\n",
       "      <td></td>\n",
       "      <td>4813.00</td>\n",
       "      <td>11.00</td>\n",
       "      <td>2.20</td>\n",
       "      <td>-0.240</td>\n",
       "      <td>75.4392000</td>\n",
       "    </tr>\n",
       "    <tr>\n",
       "      <th>3</th>\n",
       "      <td>14 Her b</td>\n",
       "      <td>14 Her</td>\n",
       "      <td>1765.03890112</td>\n",
       "      <td>2.773069</td>\n",
       "      <td>12.600</td>\n",
       "      <td>2586.74645</td>\n",
       "      <td>7.110000</td>\n",
       "      <td>0.372689</td>\n",
       "      <td></td>\n",
       "      <td></td>\n",
       "      <td>5338.00</td>\n",
       "      <td>0.93</td>\n",
       "      <td>0.91</td>\n",
       "      <td>0.405</td>\n",
       "      <td>17.9323000</td>\n",
       "    </tr>\n",
       "    <tr>\n",
       "      <th>4</th>\n",
       "      <td>16 Cyg B b</td>\n",
       "      <td>16 Cyg B</td>\n",
       "      <td>798.50000000</td>\n",
       "      <td>1.660000</td>\n",
       "      <td>13.500</td>\n",
       "      <td>565.73740</td>\n",
       "      <td>1.260000</td>\n",
       "      <td>0.680000</td>\n",
       "      <td></td>\n",
       "      <td></td>\n",
       "      <td>5750.00</td>\n",
       "      <td>1.13</td>\n",
       "      <td>1.08</td>\n",
       "      <td>0.060</td>\n",
       "      <td>21.1397000</td>\n",
       "    </tr>\n",
       "  </tbody>\n",
       "</table>\n",
       "</div>"
      ],
      "text/plain": [
       "  planet_name host_name orbital_period_[days] orbit_semi-major_axis_[au])  \\\n",
       "0    11 Com b    11 Com          326.03000000                    1.290000   \n",
       "1    11 UMi b    11 UMi          516.21997000                    1.530000   \n",
       "2    14 And b    14 And          185.84000000                    0.830000   \n",
       "3    14 Her b    14 Her         1765.03890112                    2.773069   \n",
       "4  16 Cyg B b  16 Cyg B          798.50000000                    1.660000   \n",
       "\n",
       "  planet_radius planet_mass planet_density eccentricity  \\\n",
       "0        12.100  6165.60000      19.100000     0.231000   \n",
       "1        12.300  4684.81420      13.800000     0.080000   \n",
       "2        12.900  1525.50000       3.900000     0.000000   \n",
       "3        12.600  2586.74645       7.110000     0.372689   \n",
       "4        13.500   565.73740       1.260000     0.680000   \n",
       "\n",
       "  equilibrium_temperature_[k] ratio_of_semi-major_axis_to_stellar_radius  \\\n",
       "0                                                                          \n",
       "1                                                                          \n",
       "2                                                                          \n",
       "3                                                                          \n",
       "4                                                                          \n",
       "\n",
       "  stellar_effective_temperature_[k] stellar_radius_[solar_radius]  \\\n",
       "0                           4742.00                         19.00   \n",
       "1                           4213.00                         29.79   \n",
       "2                           4813.00                         11.00   \n",
       "3                           5338.00                          0.93   \n",
       "4                           5750.00                          1.13   \n",
       "\n",
       "  stellar_mass_[solar_mass] stellar_metallicity_[dex] distance_[pc]  \n",
       "0                      2.70                    -0.350    93.1846000  \n",
       "1                      2.78                    -0.020   125.3210000  \n",
       "2                      2.20                    -0.240    75.4392000  \n",
       "3                      0.91                     0.405    17.9323000  \n",
       "4                      1.08                     0.060    21.1397000  "
      ]
     },
     "execution_count": 17,
     "metadata": {},
     "output_type": "execute_result"
    }
   ],
   "source": [
    "exo.head()"
   ]
  },
  {
   "cell_type": "code",
   "execution_count": 18,
   "metadata": {},
   "outputs": [
    {
     "name": "stdout",
     "output_type": "stream",
     "text": [
      "<class 'pandas.core.frame.DataFrame'>\n",
      "RangeIndex: 5767 entries, 0 to 5766\n",
      "Data columns (total 15 columns):\n",
      " #   Column                                      Non-Null Count  Dtype \n",
      "---  ------                                      --------------  ----- \n",
      " 0   planet_name                                 5767 non-null   object\n",
      " 1   host_name                                   5767 non-null   object\n",
      " 2   orbital_period_[days]                       5767 non-null   object\n",
      " 3   orbit_semi-major_axis_[au])                 5767 non-null   object\n",
      " 4   planet_radius                               5767 non-null   object\n",
      " 5   planet_mass                                 5767 non-null   object\n",
      " 6   planet_density                              5767 non-null   object\n",
      " 7   eccentricity                                5767 non-null   object\n",
      " 8   equilibrium_temperature_[k]                 5767 non-null   object\n",
      " 9   ratio_of_semi-major_axis_to_stellar_radius  5767 non-null   object\n",
      " 10  stellar_effective_temperature_[k]           5767 non-null   object\n",
      " 11  stellar_radius_[solar_radius]               5767 non-null   object\n",
      " 12  stellar_mass_[solar_mass]                   5767 non-null   object\n",
      " 13  stellar_metallicity_[dex]                   5767 non-null   object\n",
      " 14  distance_[pc]                               5767 non-null   object\n",
      "dtypes: object(15)\n",
      "memory usage: 5.3 MB\n"
     ]
    }
   ],
   "source": [
    "exo.info(memory_usage='deep')"
   ]
  },
  {
   "cell_type": "code",
   "execution_count": 29,
   "metadata": {},
   "outputs": [
    {
     "data": {
      "image/png": "[encoded data removed]",
      "text/plain": [
       "<Figure size 1000x600 with 1 Axes>"
      ]
     },
     "metadata": {},
     "output_type": "display_data"
    }
   ],
   "source": [
    "plt.figure(figsize=(10, 6))  \n",
    "\n",
    "sns.heatmap(exo == ' ',   \n",
    "            yticklabels=False,\n",
    "            cmap='viridis',\n",
    "            cbar=False\n",
    "           )\n",
    "\n",
    "plt.show();"
   ]
  },
  {
   "cell_type": "code",
   "execution_count": null,
   "metadata": {},
   "outputs": [],
   "source": []
  }
 ],
 "metadata": {
  "kernelspec": {
   "display_name": "base",
   "language": "python",
   "name": "python3"
  },
  "language_info": {
   "codemirror_mode": {
    "name": "ipython",
    "version": 3
   },
   "file_extension": ".py",
   "mimetype": "text/x-python",
   "name": "python",
   "nbconvert_exporter": "python",
   "pygments_lexer": "ipython3",
   "version": "3.9.13"
  },
  "orig_nbformat": 4
 },
 "nbformat": 4,
 "nbformat_minor": 2
}
