{
 "cells": [
  {
   "cell_type": "code",
   "execution_count": 1,
   "metadata": {},
   "outputs": [],
   "source": [
    "import pandas  as pd\n",
    "import numpy as np\n",
    "import warnings\n",
    "warnings.filterwarnings('ignore')\n",
    "import selenium\n",
    "import feedparser\n",
    "from bs4 import BeautifulSoup as bs\n",
    "from selenium import webdriver\n",
    "from webdriver_manager.chrome import ChromeDriverManager\n",
    "from selenium.webdriver.common.by import By\n",
    "import requests as req\n",
    "from bs4 import BeautifulSoup as bs    # ambos alias son cosa mia\n",
    "import seaborn as sns\n",
    "import matplotlib.pyplot as plt\n",
    "from sklearn.preprocessing import StandardScaler\n",
    "from sklearn.model_selection import train_test_split\n",
    "from sklearn.linear_model import LinearRegression\n",
    "from sklearn.metrics import mean_squared_error\n",
    "from sklearn.metrics import r2_score\n",
    "from sklearn.ensemble import RandomForestRegressor"
   ]
  },
  {
   "cell_type": "code",
   "execution_count": 2,
   "metadata": {},
   "outputs": [],
   "source": [
    "withoutml = pd.read_csv('REALdata.csv')"
   ]
  },
  {
   "cell_type": "code",
   "execution_count": 4,
   "metadata": {},
   "outputs": [],
   "source": [
    "withmachine = pd.read_csv('FINAL_ML.csv')"
   ]
  },
  {
   "cell_type": "code",
   "execution_count": 10,
   "metadata": {},
   "outputs": [],
   "source": [
    "withmachine_and_earth = pd.read_csv('FINAL_ML_con_TIERRA.csv')"
   ]
  },
  {
   "cell_type": "code",
   "execution_count": 11,
   "metadata": {},
   "outputs": [
    {
     "name": "stdout",
     "output_type": "stream",
     "text": [
      "<class 'pandas.core.frame.DataFrame'>\n",
      "RangeIndex: 5265 entries, 0 to 5264\n",
      "Data columns (total 19 columns):\n",
      " #   Column                                      Non-Null Count  Dtype  \n",
      "---  ------                                      --------------  -----  \n",
      " 0   Unnamed: 0                                  5265 non-null   int64  \n",
      " 1   planet_name                                 5265 non-null   object \n",
      " 2   host_name                                   5265 non-null   object \n",
      " 3   orbital_period_[days]                       5050 non-null   float64\n",
      " 4   orbit_semi-major_axis_[au])                 4982 non-null   float64\n",
      " 5   planet_radius                               5248 non-null   float64\n",
      " 6   planet_mass                                 5245 non-null   float64\n",
      " 7   planet_density                              5153 non-null   float64\n",
      " 8   eccentricity                                5265 non-null   float64\n",
      " 9   equilibrium_temperature_[k]                 3882 non-null   float64\n",
      " 10  ratio_of_semi-major_axis_to_stellar_radius  4993 non-null   float64\n",
      " 11  stellar_effective_temperature_[k]           5081 non-null   float64\n",
      " 12  stellar_radius_[solar_radius]               5061 non-null   float64\n",
      " 13  stellar_mass_[solar_mass]                   5261 non-null   float64\n",
      " 14  distance_[pc]                               5247 non-null   float64\n",
      " 15  number_of_planets                           5265 non-null   int64  \n",
      " 16  insolation_flux_earth                       3634 non-null   float64\n",
      " 17  stellar_surface_gravity                     5053 non-null   float64\n",
      " 18  stellar_age_[gyr]                           4138 non-null   float64\n",
      "dtypes: float64(15), int64(2), object(2)\n",
      "memory usage: 1.4 MB\n"
     ]
    }
   ],
   "source": [
    "withoutml.info(memory_usage='deep')"
   ]
  },
  {
   "cell_type": "code",
   "execution_count": 12,
   "metadata": {},
   "outputs": [
    {
     "name": "stdout",
     "output_type": "stream",
     "text": [
      "<class 'pandas.core.frame.DataFrame'>\n",
      "RangeIndex: 5265 entries, 0 to 5264\n",
      "Data columns (total 19 columns):\n",
      " #   Column                                      Non-Null Count  Dtype  \n",
      "---  ------                                      --------------  -----  \n",
      " 0   Unnamed: 0                                  5265 non-null   int64  \n",
      " 1   planet_name                                 5265 non-null   object \n",
      " 2   host_name                                   5265 non-null   object \n",
      " 3   orbital_period_[days]                       5261 non-null   float64\n",
      " 4   orbit_semi-major_axis_[au])                 5076 non-null   float64\n",
      " 5   planet_radius                               5260 non-null   float64\n",
      " 6   planet_mass                                 5260 non-null   float64\n",
      " 7   planet_density                              5234 non-null   float64\n",
      " 8   eccentricity                                5265 non-null   float64\n",
      " 9   equilibrium_temperature_[k]                 4867 non-null   float64\n",
      " 10  ratio_of_semi-major_axis_to_stellar_radius  4993 non-null   float64\n",
      " 11  stellar_effective_temperature_[k]           5265 non-null   float64\n",
      " 12  stellar_radius_[solar_radius]               5265 non-null   float64\n",
      " 13  stellar_mass_[solar_mass]                   5261 non-null   float64\n",
      " 14  distance_[pc]                               5247 non-null   float64\n",
      " 15  number_of_planets                           5265 non-null   int64  \n",
      " 16  insolation_flux_earth                       4867 non-null   float64\n",
      " 17  stellar_surface_gravity                     5237 non-null   float64\n",
      " 18  stellar_age_[gyr]                           5265 non-null   float64\n",
      "dtypes: float64(15), int64(2), object(2)\n",
      "memory usage: 1.4 MB\n"
     ]
    }
   ],
   "source": [
    "withmachine.info(memory_usage='deep')"
   ]
  },
  {
   "cell_type": "code",
   "execution_count": 13,
   "metadata": {},
   "outputs": [
    {
     "name": "stdout",
     "output_type": "stream",
     "text": [
      "<class 'pandas.core.frame.DataFrame'>\n",
      "RangeIndex: 5266 entries, 0 to 5265\n",
      "Data columns (total 19 columns):\n",
      " #   Column                                      Non-Null Count  Dtype  \n",
      "---  ------                                      --------------  -----  \n",
      " 0   Unnamed: 0                                  5266 non-null   int64  \n",
      " 1   planet_name                                 5266 non-null   object \n",
      " 2   host_name                                   5266 non-null   object \n",
      " 3   orbital_period_[days]                       5262 non-null   float64\n",
      " 4   orbit_semi-major_axis_[au])                 5077 non-null   float64\n",
      " 5   planet_radius                               5261 non-null   float64\n",
      " 6   planet_mass                                 5261 non-null   float64\n",
      " 7   planet_density                              5235 non-null   float64\n",
      " 8   eccentricity                                5266 non-null   float64\n",
      " 9   equilibrium_temperature_[k]                 4868 non-null   float64\n",
      " 10  ratio_of_semi-major_axis_to_stellar_radius  4994 non-null   float64\n",
      " 11  stellar_effective_temperature_[k]           5266 non-null   float64\n",
      " 12  stellar_radius_[solar_radius]               5266 non-null   float64\n",
      " 13  stellar_mass_[solar_mass]                   5262 non-null   float64\n",
      " 14  distance_[pc]                               5248 non-null   float64\n",
      " 15  number_of_planets                           5266 non-null   int64  \n",
      " 16  insolation_flux_earth                       4868 non-null   float64\n",
      " 17  stellar_surface_gravity                     5238 non-null   float64\n",
      " 18  stellar_age_[gyr]                           5266 non-null   float64\n",
      "dtypes: float64(15), int64(2), object(2)\n",
      "memory usage: 1.4 MB\n"
     ]
    }
   ],
   "source": [
    "withmachine_and_earth.info(memory_usage='deep')"
   ]
  },
  {
   "cell_type": "code",
   "execution_count": null,
   "metadata": {},
   "outputs": [],
   "source": []
  }
 ],
 "metadata": {
  "kernelspec": {
   "display_name": "base",
   "language": "python",
   "name": "python3"
  },
  "language_info": {
   "codemirror_mode": {
    "name": "ipython",
    "version": 3
   },
   "file_extension": ".py",
   "mimetype": "text/x-python",
   "name": "python",
   "nbconvert_exporter": "python",
   "pygments_lexer": "ipython3",
   "version": "3.9.13"
  },
  "orig_nbformat": 4
 },
 "nbformat": 4,
 "nbformat_minor": 2
}
