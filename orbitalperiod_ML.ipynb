{
 "cells": [
  {
   "cell_type": "code",
   "execution_count": 26,
   "metadata": {},
   "outputs": [],
   "source": [
    "import pandas  as pd\n",
    "import numpy as np\n",
    "import warnings\n",
    "warnings.filterwarnings('ignore')\n",
    "import selenium\n",
    "import feedparser\n",
    "from bs4 import BeautifulSoup as bs\n",
    "from selenium import webdriver\n",
    "from webdriver_manager.chrome import ChromeDriverManager\n",
    "from selenium.webdriver.common.by import By\n",
    "import requests as req\n",
    "from bs4 import BeautifulSoup as bs    # ambos alias son cosa mia\n",
    "import seaborn as sns\n",
    "import matplotlib.pyplot as plt\n",
    "from sklearn.preprocessing import StandardScaler\n",
    "from sklearn.model_selection import train_test_split\n",
    "from sklearn.linear_model import LinearRegression\n",
    "from sklearn.metrics import mean_squared_error\n",
    "from sklearn.metrics import r2_score\n",
    "from sklearn.ensemble import RandomForestRegressor\n"
   ]
  },
  {
   "cell_type": "code",
   "execution_count": 27,
   "metadata": {},
   "outputs": [],
   "source": [
    "orbital_period = pd.read_csv('orbitalperiod_AI_onlyv.csv')\n",
    "orbital_period.drop(['Unnamed: 0'], axis=1, inplace=True)"
   ]
  },
  {
   "cell_type": "code",
   "execution_count": 28,
   "metadata": {},
   "outputs": [
    {
     "data": {
      "text/html": [
       "<div>\n",
       "<style scoped>\n",
       "    .dataframe tbody tr th:only-of-type {\n",
       "        vertical-align: middle;\n",
       "    }\n",
       "\n",
       "    .dataframe tbody tr th {\n",
       "        vertical-align: top;\n",
       "    }\n",
       "\n",
       "    .dataframe thead th {\n",
       "        text-align: right;\n",
       "    }\n",
       "</style>\n",
       "<table border=\"1\" class=\"dataframe\">\n",
       "  <thead>\n",
       "    <tr style=\"text-align: right;\">\n",
       "      <th></th>\n",
       "      <th>orbit_semi-major_axis_[au])</th>\n",
       "      <th>equilibrium_temperature_[k]</th>\n",
       "      <th>insolation_flux_earth</th>\n",
       "      <th>orbital_period_[days]</th>\n",
       "    </tr>\n",
       "  </thead>\n",
       "  <tbody>\n",
       "    <tr>\n",
       "      <th>0</th>\n",
       "      <td>0.01544</td>\n",
       "      <td>1958.0</td>\n",
       "      <td>2657.83</td>\n",
       "      <td>0.736547</td>\n",
       "    </tr>\n",
       "    <tr>\n",
       "      <th>1</th>\n",
       "      <td>0.06450</td>\n",
       "      <td>593.0</td>\n",
       "      <td>76.64</td>\n",
       "      <td>8.462999</td>\n",
       "    </tr>\n",
       "    <tr>\n",
       "      <th>2</th>\n",
       "      <td>0.01850</td>\n",
       "      <td>464.0</td>\n",
       "      <td>8.60</td>\n",
       "      <td>2.290700</td>\n",
       "    </tr>\n",
       "    <tr>\n",
       "      <th>3</th>\n",
       "      <td>0.02752</td>\n",
       "      <td>1898.0</td>\n",
       "      <td>2852.63</td>\n",
       "      <td>1.508956</td>\n",
       "    </tr>\n",
       "    <tr>\n",
       "      <th>4</th>\n",
       "      <td>0.04016</td>\n",
       "      <td>1442.0</td>\n",
       "      <td>661.13</td>\n",
       "      <td>2.828042</td>\n",
       "    </tr>\n",
       "    <tr>\n",
       "      <th>...</th>\n",
       "      <td>...</td>\n",
       "      <td>...</td>\n",
       "      <td>...</td>\n",
       "      <td>...</td>\n",
       "    </tr>\n",
       "    <tr>\n",
       "      <th>3493</th>\n",
       "      <td>0.10100</td>\n",
       "      <td>835.0</td>\n",
       "      <td>122.78</td>\n",
       "      <td>11.094286</td>\n",
       "    </tr>\n",
       "    <tr>\n",
       "      <th>3494</th>\n",
       "      <td>0.06200</td>\n",
       "      <td>823.0</td>\n",
       "      <td>76.22</td>\n",
       "      <td>6.252972</td>\n",
       "    </tr>\n",
       "    <tr>\n",
       "      <th>3495</th>\n",
       "      <td>0.11700</td>\n",
       "      <td>600.0</td>\n",
       "      <td>21.64</td>\n",
       "      <td>16.068638</td>\n",
       "    </tr>\n",
       "    <tr>\n",
       "      <th>3496</th>\n",
       "      <td>0.22000</td>\n",
       "      <td>439.0</td>\n",
       "      <td>6.16</td>\n",
       "      <td>41.194912</td>\n",
       "    </tr>\n",
       "    <tr>\n",
       "      <th>3497</th>\n",
       "      <td>0.07500</td>\n",
       "      <td>1157.0</td>\n",
       "      <td>446.11</td>\n",
       "      <td>7.107300</td>\n",
       "    </tr>\n",
       "  </tbody>\n",
       "</table>\n",
       "<p>3498 rows × 4 columns</p>\n",
       "</div>"
      ],
      "text/plain": [
       "      orbit_semi-major_axis_[au])  equilibrium_temperature_[k]  \\\n",
       "0                         0.01544                       1958.0   \n",
       "1                         0.06450                        593.0   \n",
       "2                         0.01850                        464.0   \n",
       "3                         0.02752                       1898.0   \n",
       "4                         0.04016                       1442.0   \n",
       "...                           ...                          ...   \n",
       "3493                      0.10100                        835.0   \n",
       "3494                      0.06200                        823.0   \n",
       "3495                      0.11700                        600.0   \n",
       "3496                      0.22000                        439.0   \n",
       "3497                      0.07500                       1157.0   \n",
       "\n",
       "      insolation_flux_earth  orbital_period_[days]  \n",
       "0                   2657.83               0.736547  \n",
       "1                     76.64               8.462999  \n",
       "2                      8.60               2.290700  \n",
       "3                   2852.63               1.508956  \n",
       "4                    661.13               2.828042  \n",
       "...                     ...                    ...  \n",
       "3493                 122.78              11.094286  \n",
       "3494                  76.22               6.252972  \n",
       "3495                  21.64              16.068638  \n",
       "3496                   6.16              41.194912  \n",
       "3497                 446.11               7.107300  \n",
       "\n",
       "[3498 rows x 4 columns]"
      ]
     },
     "execution_count": 28,
     "metadata": {},
     "output_type": "execute_result"
    }
   ],
   "source": [
    "orbital_period"
   ]
  },
  {
   "cell_type": "code",
   "execution_count": 29,
   "metadata": {},
   "outputs": [],
   "source": [
    "predictdata = pd.read_csv('orbitalperiod_AI_prediction.csv')\n",
    "predictdataraw = predictdata.drop(['Unnamed: 0'], axis=1)"
   ]
  },
  {
   "cell_type": "code",
   "execution_count": 59,
   "metadata": {},
   "outputs": [],
   "source": [
    "X = orbital_period.drop(['orbital_period_[days]', 'insolation_flux_earth', 'equilibrium_temperature_[k]'], axis=1)\n",
    "y = orbital_period['orbital_period_[days]']"
   ]
  },
  {
   "cell_type": "code",
   "execution_count": 60,
   "metadata": {},
   "outputs": [],
   "source": [
    "#X = StandardScaler().fit_transform(X)"
   ]
  },
  {
   "cell_type": "code",
   "execution_count": 61,
   "metadata": {},
   "outputs": [],
   "source": [
    "X_train, X_test, y_train, y_test = train_test_split(X, y, test_size=0.2, random_state=41)"
   ]
  },
  {
   "cell_type": "code",
   "execution_count": 62,
   "metadata": {},
   "outputs": [
    {
     "data": {
      "text/plain": [
       "((2798, 1), (700, 1), (2798,), (700,))"
      ]
     },
     "execution_count": 62,
     "metadata": {},
     "output_type": "execute_result"
    }
   ],
   "source": [
    "X_train.shape, X_test.shape, y_train.shape, y_test.shape"
   ]
  },
  {
   "cell_type": "code",
   "execution_count": 63,
   "metadata": {},
   "outputs": [
    {
     "data": {
      "text/plain": [
       "LinearRegression()"
      ]
     },
     "execution_count": 63,
     "metadata": {},
     "output_type": "execute_result"
    }
   ],
   "source": [
    "lr = LinearRegression()\n",
    "lr.fit(X_train, y_train)"
   ]
  },
  {
   "cell_type": "code",
   "execution_count": 64,
   "metadata": {},
   "outputs": [],
   "source": [
    "y_pred = lr.predict(X_test)"
   ]
  },
  {
   "cell_type": "code",
   "execution_count": 65,
   "metadata": {},
   "outputs": [
    {
     "data": {
      "text/plain": [
       "array([-14.21040379,  -2.22742427,  21.83595738, -14.50267158,\n",
       "        21.34884439,   0.79267626, -14.16169249,   1.13365536,\n",
       "        19.40039243, -24.19134893])"
      ]
     },
     "execution_count": 65,
     "metadata": {},
     "output_type": "execute_result"
    }
   ],
   "source": [
    "y_pred[:10]"
   ]
  },
  {
   "cell_type": "code",
   "execution_count": 66,
   "metadata": {},
   "outputs": [
    {
     "data": {
      "text/plain": [
       "59.9329573617652"
      ]
     },
     "execution_count": 66,
     "metadata": {},
     "output_type": "execute_result"
    }
   ],
   "source": [
    "mean_squared_error(y_test, y_pred, squared=False)"
   ]
  },
  {
   "cell_type": "code",
   "execution_count": 67,
   "metadata": {},
   "outputs": [
    {
     "data": {
      "text/plain": [
       "28.48695925383366"
      ]
     },
     "execution_count": 67,
     "metadata": {},
     "output_type": "execute_result"
    }
   ],
   "source": [
    "orbital_period['orbital_period_[days]'].mean()"
   ]
  },
  {
   "cell_type": "code",
   "execution_count": 68,
   "metadata": {},
   "outputs": [
    {
     "data": {
      "text/plain": [
       "RandomForestRegressor(max_depth=4, random_state=42)"
      ]
     },
     "execution_count": 68,
     "metadata": {},
     "output_type": "execute_result"
    }
   ],
   "source": [
    "#ahora con random forest\n",
    "rf = RandomForestRegressor(n_estimators=100, max_depth=4, random_state=42)\n",
    "rf.fit(X_train, y_train)"
   ]
  },
  {
   "cell_type": "code",
   "execution_count": 69,
   "metadata": {},
   "outputs": [],
   "source": [
    "y_pred = rf.predict(X_test)"
   ]
  },
  {
   "cell_type": "code",
   "execution_count": 70,
   "metadata": {},
   "outputs": [
    {
     "data": {
      "text/plain": [
       "26.91584832728868"
      ]
     },
     "execution_count": 70,
     "metadata": {},
     "output_type": "execute_result"
    }
   ],
   "source": [
    "mean_squared_error(y_test, y_pred, squared=False)"
   ]
  },
  {
   "cell_type": "code",
   "execution_count": 74,
   "metadata": {},
   "outputs": [
    {
     "data": {
      "text/plain": [
       "28.48695925383366"
      ]
     },
     "execution_count": 74,
     "metadata": {},
     "output_type": "execute_result"
    }
   ],
   "source": [
    "mean = orbital_period['orbital_period_[days]'].mean()\n",
    "mean"
   ]
  },
  {
   "cell_type": "code",
   "execution_count": 76,
   "metadata": {},
   "outputs": [
    {
     "data": {
      "text/plain": [
       "array([ 7.82258979, 19.58862721, 37.40623338,  5.86808198,  5.86808198,\n",
       "       21.91696499,  5.86808198,  6.14862216,  5.86808198, 94.6995639 ,\n",
       "       24.79327211, 27.09413375,  7.21321375,  5.86808198,  5.86808198,\n",
       "       47.9394928 , 14.33697284,  5.86808198, 15.31571281,  5.86808198,\n",
       "       10.02117225, 10.02117225, 30.95510621,  5.86808198,  5.86808198])"
      ]
     },
     "execution_count": 76,
     "metadata": {},
     "output_type": "execute_result"
    }
   ],
   "source": [
    "y_pred[85:110]"
   ]
  },
  {
   "cell_type": "code",
   "execution_count": 77,
   "metadata": {},
   "outputs": [
    {
     "data": {
      "text/plain": [
       "1384    13.722341\n",
       "2558    18.010199\n",
       "2733    35.622233\n",
       "1388     1.594745\n",
       "523      4.808498\n",
       "1094    24.364500\n",
       "2620     2.164571\n",
       "1644     7.812540\n",
       "2043     5.419026\n",
       "2403    85.735028\n",
       "3132    25.751974\n",
       "1153    28.679920\n",
       "1370    10.526294\n",
       "1151     3.002650\n",
       "2222     4.244384\n",
       "2949    47.312619\n",
       "1986    13.093921\n",
       "590      0.989343\n",
       "2137    15.334800\n",
       "139      4.375021\n",
       "1055    12.757580\n",
       "1909    11.189562\n",
       "1995    31.781925\n",
       "1017     3.645140\n",
       "4        2.828042\n",
       "Name: orbital_period_[days], dtype: float64"
      ]
     },
     "execution_count": 77,
     "metadata": {},
     "output_type": "execute_result"
    }
   ],
   "source": [
    "y_test[85:110]"
   ]
  },
  {
   "cell_type": "code",
   "execution_count": null,
   "metadata": {},
   "outputs": [],
   "source": []
  }
 ],
 "metadata": {
  "kernelspec": {
   "display_name": "base",
   "language": "python",
   "name": "python3"
  },
  "language_info": {
   "codemirror_mode": {
    "name": "ipython",
    "version": 3
   },
   "file_extension": ".py",
   "mimetype": "text/x-python",
   "name": "python",
   "nbconvert_exporter": "python",
   "pygments_lexer": "ipython3",
   "version": "3.9.13"
  },
  "orig_nbformat": 4
 },
 "nbformat": 4,
 "nbformat_minor": 2
}
